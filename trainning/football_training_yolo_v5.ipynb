{
 "cells": [
  {
   "cell_type": "code",
   "execution_count": 1,
   "metadata": {},
   "outputs": [
    {
     "name": "stdout",
     "output_type": "stream",
     "text": [
      "Requirement already satisfied: ultralytics in c:\\users\\khanh\\appdata\\local\\programs\\python\\python38\\lib\\site-packages (8.2.31)\n",
      "Requirement already satisfied: seaborn>=0.11.0 in c:\\users\\khanh\\appdata\\local\\programs\\python\\python38\\lib\\site-packages (from ultralytics) (0.11.2)\n",
      "Requirement already satisfied: psutil in c:\\users\\khanh\\appdata\\local\\programs\\python\\python38\\lib\\site-packages (from ultralytics) (5.9.8)\n",
      "Requirement already satisfied: torch>=1.8.0 in c:\\users\\khanh\\appdata\\local\\programs\\python\\python38\\lib\\site-packages (from ultralytics) (1.10.1+cu113)\n",
      "Requirement already satisfied: torchvision>=0.9.0 in c:\\users\\khanh\\appdata\\local\\programs\\python\\python38\\lib\\site-packages (from ultralytics) (0.11.2+cu113)\n",
      "Requirement already satisfied: opencv-python>=4.6.0 in c:\\users\\khanh\\appdata\\local\\programs\\python\\python38\\lib\\site-packages (from ultralytics) (4.7.0.72)\n",
      "Requirement already satisfied: requests>=2.23.0 in c:\\users\\khanh\\appdata\\local\\programs\\python\\python38\\lib\\site-packages (from ultralytics) (2.31.0)\n",
      "Requirement already satisfied: py-cpuinfo in c:\\users\\khanh\\appdata\\local\\programs\\python\\python38\\lib\\site-packages (from ultralytics) (9.0.0)\n",
      "Requirement already satisfied: pillow>=7.1.2 in c:\\users\\khanh\\appdata\\local\\programs\\python\\python38\\lib\\site-packages (from ultralytics) (8.4.0)\n",
      "Requirement already satisfied: matplotlib>=3.3.0 in c:\\users\\khanh\\appdata\\local\\programs\\python\\python38\\lib\\site-packages (from ultralytics) (3.5.1)\n",
      "Requirement already satisfied: scipy>=1.4.1 in c:\\users\\khanh\\appdata\\local\\programs\\python\\python38\\lib\\site-packages (from ultralytics) (1.7.3)\n",
      "Requirement already satisfied: pandas>=1.1.4 in c:\\users\\khanh\\appdata\\local\\programs\\python\\python38\\lib\\site-packages (from ultralytics) (1.3.4)\n",
      "Requirement already satisfied: ultralytics-thop>=0.2.5 in c:\\users\\khanh\\appdata\\local\\programs\\python\\python38\\lib\\site-packages (from ultralytics) (0.2.8)\n",
      "Requirement already satisfied: pyyaml>=5.3.1 in c:\\users\\khanh\\appdata\\local\\programs\\python\\python38\\lib\\site-packages (from ultralytics) (6.0.1)\n",
      "Requirement already satisfied: tqdm>=4.64.0 in c:\\users\\khanh\\appdata\\local\\programs\\python\\python38\\lib\\site-packages (from ultralytics) (4.66.4)\n",
      "Requirement already satisfied: python-dateutil>=2.7 in c:\\users\\khanh\\appdata\\local\\programs\\python\\python38\\lib\\site-packages (from matplotlib>=3.3.0->ultralytics) (2.8.2)\n",
      "Requirement already satisfied: kiwisolver>=1.0.1 in c:\\users\\khanh\\appdata\\local\\programs\\python\\python38\\lib\\site-packages (from matplotlib>=3.3.0->ultralytics) (1.3.2)\n",
      "Requirement already satisfied: fonttools>=4.22.0 in c:\\users\\khanh\\appdata\\local\\programs\\python\\python38\\lib\\site-packages (from matplotlib>=3.3.0->ultralytics) (4.28.4)\n",
      "Requirement already satisfied: cycler>=0.10 in c:\\users\\khanh\\appdata\\local\\programs\\python\\python38\\lib\\site-packages (from matplotlib>=3.3.0->ultralytics) (0.10.0)\n",
      "Requirement already satisfied: numpy>=1.17 in c:\\users\\khanh\\appdata\\local\\programs\\python\\python38\\lib\\site-packages (from matplotlib>=3.3.0->ultralytics) (1.21.4)\n",
      "Requirement already satisfied: pyparsing>=2.2.1 in c:\\users\\khanh\\appdata\\local\\programs\\python\\python38\\lib\\site-packages (from matplotlib>=3.3.0->ultralytics) (3.0.6)\n",
      "Requirement already satisfied: packaging>=20.0 in c:\\users\\khanh\\appdata\\local\\programs\\python\\python38\\lib\\site-packages (from matplotlib>=3.3.0->ultralytics) (21.3)\n",
      "Requirement already satisfied: pytz>=2017.3 in c:\\users\\khanh\\appdata\\local\\programs\\python\\python38\\lib\\site-packages (from pandas>=1.1.4->ultralytics) (2024.1)\n",
      "Requirement already satisfied: certifi>=2017.4.17 in c:\\users\\khanh\\appdata\\local\\programs\\python\\python38\\lib\\site-packages (from requests>=2.23.0->ultralytics) (2023.7.22)\n",
      "Requirement already satisfied: charset-normalizer<4,>=2 in c:\\users\\khanh\\appdata\\local\\programs\\python\\python38\\lib\\site-packages (from requests>=2.23.0->ultralytics) (2.0.9)\n",
      "Requirement already satisfied: urllib3<3,>=1.21.1 in c:\\users\\khanh\\appdata\\local\\programs\\python\\python38\\lib\\site-packages (from requests>=2.23.0->ultralytics) (1.26.7)\n",
      "Requirement already satisfied: idna<4,>=2.5 in c:\\users\\khanh\\appdata\\local\\programs\\python\\python38\\lib\\site-packages (from requests>=2.23.0->ultralytics) (2.10)\n",
      "Requirement already satisfied: typing-extensions in c:\\users\\khanh\\appdata\\local\\programs\\python\\python38\\lib\\site-packages (from torch>=1.8.0->ultralytics) (4.0.1)\n",
      "Requirement already satisfied: colorama in c:\\users\\khanh\\appdata\\local\\programs\\python\\python38\\lib\\site-packages (from tqdm>=4.64.0->ultralytics) (0.4.4)\n",
      "Requirement already satisfied: six in c:\\users\\khanh\\appdata\\local\\programs\\python\\python38\\lib\\site-packages (from cycler>=0.10->matplotlib>=3.3.0->ultralytics) (1.16.0)\n",
      "Note: you may need to restart the kernel to use updated packages.\n"
     ]
    },
    {
     "name": "stderr",
     "output_type": "stream",
     "text": [
      "\n",
      "[notice] A new release of pip is available: 23.0.1 -> 24.0\n",
      "[notice] To update, run: python.exe -m pip install --upgrade pip\n"
     ]
    },
    {
     "name": "stdout",
     "output_type": "stream",
     "text": [
      "Requirement already satisfied: roboflow in c:\\users\\khanh\\appdata\\local\\programs\\python\\python38\\lib\\site-packages (1.1.32)\n",
      "Requirement already satisfied: python-dateutil in c:\\users\\khanh\\appdata\\local\\programs\\python\\python38\\lib\\site-packages (from roboflow) (2.8.2)\n",
      "Note: you may need to restart the kernel to use updated packages.Requirement already satisfied: tqdm>=4.41.0 in c:\\users\\khanh\\appdata\\local\\programs\\python\\python38\\lib\\site-packages (from roboflow) (4.66.4)\n",
      "\n"
     ]
    },
    {
     "name": "stderr",
     "output_type": "stream",
     "text": [
      "\n",
      "[notice] A new release of pip is available: 23.0.1 -> 24.0\n",
      "[notice] To update, run: python.exe -m pip install --upgrade pip\n"
     ]
    },
    {
     "name": "stdout",
     "output_type": "stream",
     "text": [
      "Requirement already satisfied: PyYAML>=5.3.1 in c:\\users\\khanh\\appdata\\local\\programs\\python\\python38\\lib\\site-packages (from roboflow) (6.0.1)\n",
      "Requirement already satisfied: matplotlib in c:\\users\\khanh\\appdata\\local\\programs\\python\\python38\\lib\\site-packages (from roboflow) (3.5.1)\n",
      "Requirement already satisfied: kiwisolver>=1.3.1 in c:\\users\\khanh\\appdata\\local\\programs\\python\\python38\\lib\\site-packages (from roboflow) (1.3.2)\n",
      "Requirement already satisfied: python-dotenv in c:\\users\\khanh\\appdata\\local\\programs\\python\\python38\\lib\\site-packages (from roboflow) (1.0.1)\n",
      "Requirement already satisfied: chardet==4.0.0 in c:\\users\\khanh\\appdata\\local\\programs\\python\\python38\\lib\\site-packages (from roboflow) (4.0.0)\n",
      "Requirement already satisfied: idna==2.10 in c:\\users\\khanh\\appdata\\local\\programs\\python\\python38\\lib\\site-packages (from roboflow) (2.10)\n",
      "Requirement already satisfied: certifi==2023.7.22 in c:\\users\\khanh\\appdata\\local\\programs\\python\\python38\\lib\\site-packages (from roboflow) (2023.7.22)\n",
      "Requirement already satisfied: requests-toolbelt in c:\\users\\khanh\\appdata\\local\\programs\\python\\python38\\lib\\site-packages (from roboflow) (1.0.0)\n",
      "Requirement already satisfied: requests in c:\\users\\khanh\\appdata\\local\\programs\\python\\python38\\lib\\site-packages (from roboflow) (2.31.0)\n",
      "Requirement already satisfied: cycler==0.10.0 in c:\\users\\khanh\\appdata\\local\\programs\\python\\python38\\lib\\site-packages (from roboflow) (0.10.0)\n",
      "Requirement already satisfied: python-magic in c:\\users\\khanh\\appdata\\local\\programs\\python\\python38\\lib\\site-packages (from roboflow) (0.4.27)\n",
      "Requirement already satisfied: numpy>=1.18.5 in c:\\users\\khanh\\appdata\\local\\programs\\python\\python38\\lib\\site-packages (from roboflow) (1.21.4)\n",
      "Requirement already satisfied: six in c:\\users\\khanh\\appdata\\local\\programs\\python\\python38\\lib\\site-packages (from roboflow) (1.16.0)\n",
      "Requirement already satisfied: opencv-python-headless==4.8.0.74 in c:\\users\\khanh\\appdata\\local\\programs\\python\\python38\\lib\\site-packages (from roboflow) (4.8.0.74)\n",
      "Requirement already satisfied: urllib3>=1.26.6 in c:\\users\\khanh\\appdata\\local\\programs\\python\\python38\\lib\\site-packages (from roboflow) (1.26.7)\n",
      "Requirement already satisfied: Pillow>=7.1.2 in c:\\users\\khanh\\appdata\\local\\programs\\python\\python38\\lib\\site-packages (from roboflow) (8.4.0)\n",
      "Requirement already satisfied: colorama in c:\\users\\khanh\\appdata\\local\\programs\\python\\python38\\lib\\site-packages (from tqdm>=4.41.0->roboflow) (0.4.4)\n",
      "Requirement already satisfied: packaging>=20.0 in c:\\users\\khanh\\appdata\\local\\programs\\python\\python38\\lib\\site-packages (from matplotlib->roboflow) (21.3)\n",
      "Requirement already satisfied: fonttools>=4.22.0 in c:\\users\\khanh\\appdata\\local\\programs\\python\\python38\\lib\\site-packages (from matplotlib->roboflow) (4.28.4)\n",
      "Requirement already satisfied: pyparsing>=2.2.1 in c:\\users\\khanh\\appdata\\local\\programs\\python\\python38\\lib\\site-packages (from matplotlib->roboflow) (3.0.6)\n",
      "Requirement already satisfied: charset-normalizer<4,>=2 in c:\\users\\khanh\\appdata\\local\\programs\\python\\python38\\lib\\site-packages (from requests->roboflow) (2.0.9)\n"
     ]
    }
   ],
   "source": [
    "%pip install ultralytics\n",
    "%pip install roboflow"
   ]
  },
  {
   "cell_type": "markdown",
   "metadata": {},
   "source": [
    "Get Dataset"
   ]
  },
  {
   "cell_type": "code",
   "execution_count": 20,
   "metadata": {},
   "outputs": [
    {
     "name": "stdout",
     "output_type": "stream",
     "text": [
      "loading Roboflow workspace...\n",
      "loading Roboflow project...\n"
     ]
    },
    {
     "name": "stderr",
     "output_type": "stream",
     "text": [
      "Downloading Dataset Version Zip in football-players-detection-1 to yolov5pytorch:: 100%|██████████| 148663/148663 [00:17<00:00, 8289.52it/s] "
     ]
    },
    {
     "name": "stdout",
     "output_type": "stream",
     "text": [
      "\n"
     ]
    },
    {
     "name": "stderr",
     "output_type": "stream",
     "text": [
      "\n",
      "Extracting Dataset Version Zip to football-players-detection-1 in yolov5pytorch:: 100%|██████████| 1338/1338 [00:01<00:00, 1135.50it/s]\n"
     ]
    }
   ],
   "source": [
    "\n",
    "from roboflow import Roboflow\n",
    "rf = Roboflow(api_key=\"AHfdIyWxBwyssTh9YrKM\")\n",
    "project = rf.workspace(\"roboflow-jvuqo\").project(\"football-players-detection-3zvbc\")\n",
    "version = project.version(1)\n",
    "dataset = version.download(\"yolov5\")"
   ]
  },
  {
   "cell_type": "code",
   "execution_count": 21,
   "metadata": {},
   "outputs": [
    {
     "data": {
      "text/plain": [
       "'d:\\\\Project Pyrhon\\\\FootBall Analyst\\\\trainning\\\\football-players-detection-1'"
      ]
     },
     "execution_count": 21,
     "metadata": {},
     "output_type": "execute_result"
    }
   ],
   "source": [
    "dataset.location"
   ]
  },
  {
   "cell_type": "code",
   "execution_count": 22,
   "metadata": {},
   "outputs": [
    {
     "data": {
      "text/plain": [
       "'football-players-detection-1/football-players-detection-1/valid'"
      ]
     },
     "execution_count": 22,
     "metadata": {},
     "output_type": "execute_result"
    }
   ],
   "source": [
    "import shutil\n",
    "\n",
    "shutil.move('football-players-detection-1/train',\n",
    "            'football-players-detection-1/football-players-detection-1/train'\n",
    "            )\n",
    "\n",
    "shutil.move('football-players-detection-1/test',\n",
    "            'football-players-detection-1/football-players-detection-1/test'\n",
    "            )\n",
    "\n",
    "shutil.move('football-players-detection-1/valid',\n",
    "            'football-players-detection-1/football-players-detection-1/valid'\n",
    "            )"
   ]
  },
  {
   "cell_type": "markdown",
   "metadata": {},
   "source": [
    "Trainning"
   ]
  },
  {
   "cell_type": "code",
   "execution_count": null,
   "metadata": {},
   "outputs": [],
   "source": [
    "%yolo task=detect mode=train model=yolov5x.pt data={dataset.location}/data.yaml epochs=100 imgsz=640"
   ]
  }
 ],
 "metadata": {
  "kernelspec": {
   "display_name": "Python 3",
   "language": "python",
   "name": "python3"
  },
  "language_info": {
   "codemirror_mode": {
    "name": "ipython",
    "version": 3
   },
   "file_extension": ".py",
   "mimetype": "text/x-python",
   "name": "python",
   "nbconvert_exporter": "python",
   "pygments_lexer": "ipython3",
   "version": "3.8.0"
  }
 },
 "nbformat": 4,
 "nbformat_minor": 2
}
